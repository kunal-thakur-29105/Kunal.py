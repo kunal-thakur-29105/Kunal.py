{
  "nbformat": 4,
  "nbformat_minor": 0,
  "metadata": {
    "colab": {
      "provenance": []
    },
    "kernelspec": {
      "name": "python3",
      "display_name": "Python 3"
    },
    "language_info": {
      "name": "python"
    }
  },
  "cells": [
    {
      "cell_type": "code",
      "execution_count": null,
      "metadata": {
        "colab": {
          "base_uri": "https://localhost:8080/"
        },
        "id": "8Ya3gNvHRAUw",
        "outputId": "01bc3d5f-af12-45bd-f280-69c935c32023"
      },
      "outputs": [
        {
          "output_type": "stream",
          "name": "stdout",
          "text": [
            "1. Add Items\n",
            "2. Show Bill\n",
            "3. Exit\n",
            "Enter your choice: 1\n",
            "Enter number of items: 6\n",
            "Enter item name: good day biscuit\n",
            "Enter price per unit: 10\n",
            "Enter quantity: 4\n",
            "Enter item name: chips\n",
            "Enter price per unit: 5\n",
            "Enter quantity: 2\n",
            "Enter item name: cheese\n",
            "Enter price per unit: 30\n",
            "Enter quantity: 4\n",
            "Enter item name: jam'\n",
            "Enter price per unit: 70\n",
            "Enter quantity: 1\n",
            "Enter item name: bread\n",
            "Enter price per unit: 45\n",
            "Enter quantity: 1\n",
            "Enter item name: cold fries\n",
            "Enter price per unit: 90\n",
            "Enter quantity: 2\n",
            "Items added successfully!\n",
            "\n",
            "1. Add Items\n",
            "2. Show Bill\n",
            "3. Exit\n",
            "Enter your choice: 2\n",
            "---------------------------------------\n",
            "Item\tPrice\tQuantity\tTotal\n",
            "---------------------------------------\n",
            "good day biscuit\t10.0\t4\t40.0\n",
            "chips\t5.0\t2\t10.0\n",
            "cheese\t30.0\t4\t120.0\n",
            "jam'\t70.0\t1\t70.0\n",
            "bread\t45.0\t1\t45.0\n",
            "cold fries\t90.0\t2\t180.0\n",
            "---------------------------------------\n",
            "Total Amount: Rs. 465.0\n",
            "---------------------------------------\n",
            "\n",
            "1. Add Items\n",
            "2. Show Bill\n",
            "3. Exit\n"
          ]
        }
      ],
      "source": [
        "#case study 1:grocery store calculator\n",
        "# Grocery Store Calculator (Multiple Items Version)\n",
        "\n",
        "# Declaring variables\n",
        "grocery_list = []\n",
        "total_amount = 0\n",
        "\n",
        "while True:\n",
        "    print(\"1. Add Items\")\n",
        "    print(\"2. Show Bill\")\n",
        "    print(\"3. Exit\")\n",
        "    choice = int(input(\"Enter your choice: \"))\n",
        "\n",
        "    if choice == 1:\n",
        "        num_items = int(input(\"Enter number of items: \"))\n",
        "        for _ in range(num_items):\n",
        "            item_name = input(\"Enter item name: \")\n",
        "            price = float(input(\"Enter price per unit: \"))\n",
        "            quantity = int(input(\"Enter quantity: \"))\n",
        "            total_price = price * quantity\n",
        "            grocery_list.append((item_name, price, quantity, total_price))\n",
        "        print(\"Items added successfully!\\n\")\n",
        "\n",
        "    elif choice == 2:\n",
        "        print(\"---------------------------------------\")\n",
        "        print(\"Item\tPrice\tQuantity\tTotal\")\n",
        "        print(\"---------------------------------------\")\n",
        "        total_amount = 0\n",
        "        for item_name, price, quantity, total_price in grocery_list:\n",
        "            print(f\"{item_name}\\t{price}\\t{quantity}\\t{total_price}\")\n",
        "            total_amount += total_price\n",
        "        print(\"---------------------------------------\")\n",
        "        print(f\"Total Amount: Rs. {total_amount}\")\n",
        "        print(\"---------------------------------------\\n\")\n",
        "\n",
        "    elif choice == 3:\n",
        "        print(\"Thank you for using the Grocery Store Calculator!\")\n",
        "        break\n",
        "\n",
        "    else:\n",
        "        print(\"Invalid choice! Please try again.\\n\")"
      ]
    },
    {
      "cell_type": "code",
      "source": [],
      "metadata": {
        "id": "sMfWXiTjYU-W"
      },
      "execution_count": null,
      "outputs": []
    }
  ]
}